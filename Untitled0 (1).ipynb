{
  "nbformat": 4,
  "nbformat_minor": 0,
  "metadata": {
    "colab": {
      "provenance": []
    },
    "kernelspec": {
      "name": "python3",
      "display_name": "Python 3"
    },
    "language_info": {
      "name": "python"
    }
  },
  "cells": [
    {
      "cell_type": "markdown",
      "source": [
        "# **Data types and structures questions**\n",
        "\n",
        "Ans1:- Data structures bring together the data elements in a logical way and facilitate the effective use, persistence and sharing of data they provide a formal model that describes the way the data elements are organized data structures are the building blocks for more sophisticated applications.\n",
        "\n",
        "Ans2:- Mutable Data Type – A mutable data type is one whose values can be changed.\n",
        "Example: List, Dictionaries, and Set\n",
        "\n",
        "Immutable Data Type – An immutable data type is one in which the values can’t be changed or altered.\n",
        "Example: String and Tuples\n",
        "\n",
        "Ans3:- The key difference between tuples and lists is that while tuples are immutable objects, lists are mutable this means tuples cannot be changed while lists can be modified. Tuples are also more memory efficient than the lists.\n",
        "\n",
        "Ans4:- ictionaries are used to store data values in key:value pairs. A dictionary is a collection which is ordered*, changeable and do not allow duplicates. As of Python version 3.7, dictionaries are ordered. In Python 3.6 and earlier, dictionaries are unordered.\n",
        "\n",
        "Ans5:- Membership tests check whether a specific element is contained in a sequence, such as strings, lists, tuples, or sets one of the main advantages of using sets in Python is that they are highly optimized for membership tests. For example, sets do membership tests a lot more efficiently than lists.\n",
        "\n",
        "Ans6:- A string is a sequence of characters between single or double quotes. A list is a sequence of items, where each item could be anything (an integer, a float, a string, etc)\n",
        "\n",
        "Ans7:- Tuples are immutable to ensure that their contents remain constant throughout their lifecycle, guaranteeing data integrity and reliability this immutability allows tuples to be used as keys in dictionaries and elements in sets, as they can be hashed.\n",
        "\n",
        "Ans8:- A hash table is a data structure that allows you to store a collection of key-value pairs. In a hash table, the key of every key-value pair must be hashable, because the pairs stored are indexed by using the hash of their keys.\n",
        "\n",
        "Ans9:- In a list, you can store objects of any type. You can also mix objects of different types within the same list, although list elements often share the same type. Note: Throughout this tutorial, you'll use the terms items, elements, and values interchangeably to refer to the objects stored in a list.\n",
        "\n",
        "Ans10:- Python strings are \"immutable\" which means they cannot be changed after they are created (Java strings also use this immutable style) since strings can't be changed, we construct *new* strings as we go to represent computed values.\n",
        "\n",
        "Ans11:- Python has a list, which is a mutable data structure with an ordered list of elements. A list's elements are any items or values that are contained within it.\n",
        "\n",
        "The definition of a list is a set of values enclosed in square brackets ([]) and separated by commas.\n",
        "\n",
        "The data collected is stored as key-value pairs in the dictionary, a standard Python data structure. The word \"dictionary\" is enclosed in curly brackets (), spaced by commas.\n",
        "\n",
        "Due to the above difference between lists and dictionaries getting the elements from the list data structure is more complex when compared to dictionaries.\n",
        "So it is more efficient to use dictionaries for the searching of elements as it can be carried out in a much faster manner.\n",
        "\n",
        "Lists are used when it is important to maintain the order of the elements and dealing with data that may get changed in the future.\n",
        "\n",
        "Ans12:- Use a tuple if you need an immutable collection where the elements won't change after creation. Tuples are generally faster and more memory-efficient than lists, making them better for fixed collections, especially as dictionary keys or when iteration speed is crucial.\n",
        "\n",
        "Ans13:- Items of a set in python are immutable (unchangeable), do not duplicate values, and unordered. Thus, items in a set do not appear in a stipulated manner, i.e., they can appear in a different order every time it is used. Due to this, set items cannot be referred to by key or index.\n",
        "\n",
        "Ans14:- List in python- Lists are used to create Dynamic Array in Python just like ArrayList in Java and Vectors i C++. Dynamic Array is a Data Structure whose size can be increased or decreased dynamically after it has been declared during runtime because of which programmers are not required to specify the length of the array. Lists are heterogenous and can contain different types of data such as Integers, Strings, Lists, as well as inbuilt or user-defined Objects. Lists are mutable, which means that if we modify the list, then any other variable referencing to this list also gets modified.\n",
        "\n",
        "Dictonary in python-Python Dictionary on the other hand is used to create Hash Map which is a Data Structure used to store key and their respective values. Like a literal English dictionary which contains words and their meanings, Python Dictionaries are similar to them where the key must be of an immutable data type such as Integer, Float, Tuple, Boolean, String. The value of a particular key can be of any data type and allows mutable datatypes such as Dictionary and Lists. The Key is hashed to generate an index where the value will be stored such that we can have constant time access to the value by just knowing the key. Each Key-Value pairs are separated using comma (,) and the value for a particular key is separated by semicolon (:).\n",
        "\n",
        "Ans15:- In Python, tuples are immutable, meaning that once they are created, their elements cannot be changed, added, or removed. This immutability distinguishes tuples from lists, which are mutable.\n",
        "\n",
        "Ans16:- In Python, a nested dictionary is a dictionary inside a dictionary. It's a collection of dictionaries into one single dictionary. Here, the nested_dict is a nested dictionary with the dictionary dictA and dictB . They are two dictionary each having own key and value.\n",
        "\n",
        "Ans17:- Similar to the insertion operation, dictionary lookups in Python also have an average time complexity of O(1). This means that, on average, the time taken to retrieve an element from a dictionary is constant and does not depend on the size of the dictionary.\n",
        "\n",
        "Ans18:- Key Differences Between List and Dictionary in Python. A list is an ordered collection of items, whereas a dictionary is an unordered data collection in a key: value pair. Elements from the list can be accessed using the index, while the elements of the dictionary can be accessed using keys.\n",
        "\n",
        "Ans19:- Python dictionaries were unordered but after Python 3.7 version Dictionaries are ordered. It preserves the order of insertion, i.e., while creating a dictionary with key-value pairs, each key-value pair will be inserted in the order it has been defined one after another. But previously, the elements of the dictionary were inserted in alphabetical order.\n",
        "\n",
        "Ans20:- A list is an ordered collection of items, whereas a dictionary is an unordered data collection in a key: value pair. Elements from the list can be accessed using the index, while the elements of the dictionary can be accessed using keys."
      ],
      "metadata": {
        "id": "-ZIujSIPB760"
      }
    },
    {
      "cell_type": "markdown",
      "source": [
        "# **Practical Questions**"
      ],
      "metadata": {
        "id": "VgSeoxRlIYAB"
      }
    },
    {
      "cell_type": "code",
      "source": [
        "my_name = \"Ridhima\"\n",
        "print(\"My name is:\", my_name)"
      ],
      "metadata": {
        "colab": {
          "base_uri": "https://localhost:8080/"
        },
        "id": "y0E4j9iLIn6H",
        "outputId": "baddd186-afea-4e01-c968-bdbf6daf10a6"
      },
      "execution_count": 1,
      "outputs": [
        {
          "output_type": "stream",
          "name": "stdout",
          "text": [
            "My name is: Ridhima\n"
          ]
        }
      ]
    },
    {
      "cell_type": "code",
      "source": [
        "my_string = \"Hello World\"\n",
        "length = len(my_string)\n",
        "print(\"The length of the string is:\", length)"
      ],
      "metadata": {
        "colab": {
          "base_uri": "https://localhost:8080/"
        },
        "id": "4q2hyZm_JfDk",
        "outputId": "46c9ae93-43a4-48be-f386-ca12ee26ffd9"
      },
      "execution_count": 2,
      "outputs": [
        {
          "output_type": "stream",
          "name": "stdout",
          "text": [
            "The length of the string is: 11\n"
          ]
        }
      ]
    },
    {
      "cell_type": "code",
      "source": [
        "my_string = \"Python Programming\"\n",
        "sliced_string = my_string[:3]\n",
        "print(\"The first 3 characters are:\", sliced_string)"
      ],
      "metadata": {
        "colab": {
          "base_uri": "https://localhost:8080/"
        },
        "id": "-aORYtGRJqi5",
        "outputId": "fde08d81-3368-49ca-9307-90045b477c09"
      },
      "execution_count": 3,
      "outputs": [
        {
          "output_type": "stream",
          "name": "stdout",
          "text": [
            "The first 3 characters are: Pyt\n"
          ]
        }
      ]
    },
    {
      "cell_type": "code",
      "source": [
        "my_string = \"hello\"\n",
        "uppercase_string = my_string.upper()\n",
        "print(\"Uppercase string:\", uppercase_string)"
      ],
      "metadata": {
        "colab": {
          "base_uri": "https://localhost:8080/"
        },
        "id": "Euz636FnKJVA",
        "outputId": "39e35b82-c442-4f6f-e612-0904eab2f1e2"
      },
      "execution_count": 4,
      "outputs": [
        {
          "output_type": "stream",
          "name": "stdout",
          "text": [
            "Uppercase string: HELLO\n"
          ]
        }
      ]
    },
    {
      "cell_type": "code",
      "source": [
        "my_string = \"I like apple\"\n",
        "modified_string = my_string.replace(\"apple\", \"orange\")\n",
        "print(\"Modified string:\", modified_string)"
      ],
      "metadata": {
        "colab": {
          "base_uri": "https://localhost:8080/"
        },
        "id": "fB0N_YqtKRLJ",
        "outputId": "f426820e-91f3-4831-9009-c1d811e06bc8"
      },
      "execution_count": 5,
      "outputs": [
        {
          "output_type": "stream",
          "name": "stdout",
          "text": [
            "Modified string: I like orange\n"
          ]
        }
      ]
    },
    {
      "cell_type": "code",
      "source": [
        "numbers = [1, 2, 3, 4, 5]\n",
        "print(\"List of numbers:\", numbers)"
      ],
      "metadata": {
        "colab": {
          "base_uri": "https://localhost:8080/"
        },
        "id": "5mYXQX56KhUt",
        "outputId": "306ff912-cc70-421e-d3c6-70de5a640151"
      },
      "execution_count": 6,
      "outputs": [
        {
          "output_type": "stream",
          "name": "stdout",
          "text": [
            "List of numbers: [1, 2, 3, 4, 5]\n"
          ]
        }
      ]
    },
    {
      "cell_type": "code",
      "source": [
        "numbers = [1, 2, 3, 4]\n",
        "numbers.append(10)\n",
        "print(\"Updated list:\", numbers)"
      ],
      "metadata": {
        "colab": {
          "base_uri": "https://localhost:8080/"
        },
        "id": "NFN0dwCzK3Tc",
        "outputId": "1e4874b5-cd0f-43a0-cabe-5dbfe7e45e22"
      },
      "execution_count": 7,
      "outputs": [
        {
          "output_type": "stream",
          "name": "stdout",
          "text": [
            "Updated list: [1, 2, 3, 4, 10]\n"
          ]
        }
      ]
    },
    {
      "cell_type": "code",
      "source": [
        "numbers = [1, 2, 3, 4, 5]\n",
        "numbers.remove(3)\n",
        "print(\"Updated list:\", numbers)"
      ],
      "metadata": {
        "colab": {
          "base_uri": "https://localhost:8080/"
        },
        "id": "4G9X4sp0K-ZK",
        "outputId": "8a4d4522-4a38-4a57-e54b-53d5f2199fdf"
      },
      "execution_count": 8,
      "outputs": [
        {
          "output_type": "stream",
          "name": "stdout",
          "text": [
            "Updated list: [1, 2, 4, 5]\n"
          ]
        }
      ]
    },
    {
      "cell_type": "code",
      "source": [
        "letters = ['a', 'b', 'c', 'd']\n",
        "second_element = letters[1]\n",
        "print(\"The second element is:\", second_element)"
      ],
      "metadata": {
        "colab": {
          "base_uri": "https://localhost:8080/"
        },
        "id": "IfB8qRmiLU2i",
        "outputId": "468aecfd-c151-40a8-8279-d155445cd1c0"
      },
      "execution_count": 9,
      "outputs": [
        {
          "output_type": "stream",
          "name": "stdout",
          "text": [
            "The second element is: b\n"
          ]
        }
      ]
    },
    {
      "cell_type": "code",
      "source": [
        "numbers = [10, 20, 30, 40, 50]\n",
        "reversed_list = numbers[::-1]\n",
        "print(\"Reversed list:\", reversed_list)"
      ],
      "metadata": {
        "colab": {
          "base_uri": "https://localhost:8080/"
        },
        "id": "5RSDZ0TuLd0D",
        "outputId": "c9fae90d-da44-4ce8-bfd5-c7487f30dcf1"
      },
      "execution_count": 10,
      "outputs": [
        {
          "output_type": "stream",
          "name": "stdout",
          "text": [
            "Reversed list: [50, 40, 30, 20, 10]\n"
          ]
        }
      ]
    },
    {
      "cell_type": "code",
      "source": [
        "my_tuple = (10, 20, 30)\n",
        "print(\"Tuple:\", my_tuple)"
      ],
      "metadata": {
        "colab": {
          "base_uri": "https://localhost:8080/"
        },
        "id": "yfTIbbMBLtFC",
        "outputId": "a4805316-6a07-47df-ee82-863fbbb439bd"
      },
      "execution_count": 11,
      "outputs": [
        {
          "output_type": "stream",
          "name": "stdout",
          "text": [
            "Tuple: (10, 20, 30)\n"
          ]
        }
      ]
    },
    {
      "cell_type": "code",
      "source": [
        "my_tuple = ('apple', 'banana', 'cherry')\n",
        "first_element = my_tuple[0]\n",
        "print(\"First element:\", first_element)"
      ],
      "metadata": {
        "colab": {
          "base_uri": "https://localhost:8080/"
        },
        "id": "Hk4cOZ3GLuCL",
        "outputId": "1f3e3c14-a00f-42bb-c8ac-6b3300092672"
      },
      "execution_count": 12,
      "outputs": [
        {
          "output_type": "stream",
          "name": "stdout",
          "text": [
            "First element: apple\n"
          ]
        }
      ]
    },
    {
      "cell_type": "code",
      "source": [
        "my_tuple = (1, 2, 3, 2, 4, 2)\n",
        "count_of_two = my_tuple.count(2)\n",
        "print(\"Number 2 appears\", count_of_two, \"times.\")"
      ],
      "metadata": {
        "colab": {
          "base_uri": "https://localhost:8080/"
        },
        "id": "njYJgGi2L6U3",
        "outputId": "b18b076b-1248-46b3-b254-18174e494f29"
      },
      "execution_count": 13,
      "outputs": [
        {
          "output_type": "stream",
          "name": "stdout",
          "text": [
            "Number 2 appears 3 times.\n"
          ]
        }
      ]
    },
    {
      "cell_type": "code",
      "source": [
        "my_tuple = ('dog', 'cat', 'rabbit')\n",
        "index_of_cat = my_tuple.index('cat')\n",
        "print(\"The index of 'cat' is:\", index_of_cat)"
      ],
      "metadata": {
        "colab": {
          "base_uri": "https://localhost:8080/"
        },
        "id": "_lNZV5bLL6RY",
        "outputId": "289e97c9-59fb-4744-9d65-fc1ed3594b97"
      },
      "execution_count": 14,
      "outputs": [
        {
          "output_type": "stream",
          "name": "stdout",
          "text": [
            "The index of 'cat' is: 1\n"
          ]
        }
      ]
    },
    {
      "cell_type": "code",
      "source": [
        "my_tuple = ('apple', 'orange', 'banana')\n",
        "if 'banana' in my_tuple:\n",
        "    print(\"Yes, 'banana' is in the tuple.\")\n",
        "else:\n",
        "    print(\"No, 'banana' is not in the tuple.\")"
      ],
      "metadata": {
        "colab": {
          "base_uri": "https://localhost:8080/"
        },
        "id": "ZEturJt3Mdgg",
        "outputId": "d291e1cc-3e23-4fef-8de3-86d404ef5d24"
      },
      "execution_count": 15,
      "outputs": [
        {
          "output_type": "stream",
          "name": "stdout",
          "text": [
            "Yes, 'banana' is in the tuple.\n"
          ]
        }
      ]
    },
    {
      "cell_type": "code",
      "source": [
        "my_set = {1, 2, 3, 4, 5}\n",
        "print(my_set)"
      ],
      "metadata": {
        "colab": {
          "base_uri": "https://localhost:8080/"
        },
        "id": "gYSiQ901MddH",
        "outputId": "01cccf30-ce2e-47fd-ea53-64f70cedeeb7"
      },
      "execution_count": 16,
      "outputs": [
        {
          "output_type": "stream",
          "name": "stdout",
          "text": [
            "{1, 2, 3, 4, 5}\n"
          ]
        }
      ]
    },
    {
      "cell_type": "code",
      "source": [
        "my_set = {1, 2, 3, 4}\n",
        "my_set.add(6)\n",
        "print(my_set)"
      ],
      "metadata": {
        "colab": {
          "base_uri": "https://localhost:8080/"
        },
        "id": "DxC99H64MdY2",
        "outputId": "ca6937c9-a2a4-4245-9e50-52fd99f59729"
      },
      "execution_count": 17,
      "outputs": [
        {
          "output_type": "stream",
          "name": "stdout",
          "text": [
            "{1, 2, 3, 4, 6}\n"
          ]
        }
      ]
    },
    {
      "cell_type": "code",
      "source": [
        "my_tuple = (10, 20, 30)\n",
        "print(my_tuple)"
      ],
      "metadata": {
        "colab": {
          "base_uri": "https://localhost:8080/"
        },
        "id": "btHjzyJGMdWE",
        "outputId": "c74b1eed-0348-459a-aab5-26e75f901e9b"
      },
      "execution_count": 20,
      "outputs": [
        {
          "output_type": "stream",
          "name": "stdout",
          "text": [
            "(10, 20, 30)\n"
          ]
        }
      ]
    },
    {
      "cell_type": "code",
      "source": [
        "my_tuple = ('apple', 'banana', 'cherry')\n",
        "first_element = my_tuple[0]\n",
        "print(first_element)"
      ],
      "metadata": {
        "colab": {
          "base_uri": "https://localhost:8080/"
        },
        "id": "Zf2E7P7BNQFX",
        "outputId": "ab7c6b11-e6fd-4434-a5b8-1cb8ea5ff2d1"
      },
      "execution_count": 21,
      "outputs": [
        {
          "output_type": "stream",
          "name": "stdout",
          "text": [
            "apple\n"
          ]
        }
      ]
    },
    {
      "cell_type": "code",
      "source": [
        "my_tuple = (1, 2, 3, 2, 4, 2)\n",
        "count_of_two = my_tuple.count(2)\n",
        "print(count_of_two)"
      ],
      "metadata": {
        "colab": {
          "base_uri": "https://localhost:8080/"
        },
        "id": "rC4CPF0ONPgv",
        "outputId": "35971710-c52d-4fcf-c8e5-ee0dc1f378a7"
      },
      "execution_count": 22,
      "outputs": [
        {
          "output_type": "stream",
          "name": "stdout",
          "text": [
            "3\n"
          ]
        }
      ]
    },
    {
      "cell_type": "code",
      "source": [
        "my_tuple = ('dog', 'cat', 'rabbit')\n",
        "index_of_cat = my_tuple.index('cat')\n",
        "print(index_of_cat)"
      ],
      "metadata": {
        "colab": {
          "base_uri": "https://localhost:8080/"
        },
        "id": "xhIxkVNFNPMJ",
        "outputId": "337efb53-556b-4f74-e023-5c13236f0292"
      },
      "execution_count": 23,
      "outputs": [
        {
          "output_type": "stream",
          "name": "stdout",
          "text": [
            "1\n"
          ]
        }
      ]
    },
    {
      "cell_type": "code",
      "source": [
        "my_tuple = ('apple', 'orange', 'banana')\n",
        "if 'banana' in my_tuple:\n",
        "    print(\"Yes, 'banana' is in the tuple.\")\n",
        "else:\n",
        "    print(\"No, 'banana' is not in the tuple.\")"
      ],
      "metadata": {
        "colab": {
          "base_uri": "https://localhost:8080/"
        },
        "id": "ha1XJIXlNPBw",
        "outputId": "763723b4-f739-457e-d013-68aec0d15ea8"
      },
      "execution_count": 24,
      "outputs": [
        {
          "output_type": "stream",
          "name": "stdout",
          "text": [
            "Yes, 'banana' is in the tuple.\n"
          ]
        }
      ]
    },
    {
      "cell_type": "code",
      "source": [
        "my_set = {1, 2, 3, 4, 5}\n",
        "print(my_set)"
      ],
      "metadata": {
        "colab": {
          "base_uri": "https://localhost:8080/"
        },
        "id": "i35rnqOiOPQn",
        "outputId": "1bf5d8fc-b17a-4b84-cfc0-7e1d69aff0ee"
      },
      "execution_count": 25,
      "outputs": [
        {
          "output_type": "stream",
          "name": "stdout",
          "text": [
            "{1, 2, 3, 4, 5}\n"
          ]
        }
      ]
    },
    {
      "cell_type": "code",
      "source": [
        "my_set = {1, 2, 3, 4}\n",
        "my_set.add(6)\n",
        "print(my_set)"
      ],
      "metadata": {
        "colab": {
          "base_uri": "https://localhost:8080/"
        },
        "id": "PPLAlbVSOPNS",
        "outputId": "51af1263-fab0-42fd-ba5b-3c4e5f04c9f9"
      },
      "execution_count": 26,
      "outputs": [
        {
          "output_type": "stream",
          "name": "stdout",
          "text": [
            "{1, 2, 3, 4, 6}\n"
          ]
        }
      ]
    }
  ]
}